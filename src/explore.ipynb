{
    "cells": [
        {
            "cell_type": "markdown",
            "metadata": {},
            "source": [
                "# Explore here"
            ]
        },
        {
            "cell_type": "code",
            "execution_count": 2,
            "metadata": {},
            "outputs": [
                {
                    "data": {
                        "text/html": [
                            "<div>\n",
                            "<style scoped>\n",
                            "    .dataframe tbody tr th:only-of-type {\n",
                            "        vertical-align: middle;\n",
                            "    }\n",
                            "\n",
                            "    .dataframe tbody tr th {\n",
                            "        vertical-align: top;\n",
                            "    }\n",
                            "\n",
                            "    .dataframe thead th {\n",
                            "        text-align: right;\n",
                            "    }\n",
                            "</style>\n",
                            "<table border=\"1\" class=\"dataframe\">\n",
                            "  <thead>\n",
                            "    <tr style=\"text-align: right;\">\n",
                            "      <th></th>\n",
                            "      <th>Pregnancies</th>\n",
                            "      <th>Glucose</th>\n",
                            "      <th>BloodPressure</th>\n",
                            "      <th>SkinThickness</th>\n",
                            "      <th>Insulin</th>\n",
                            "      <th>BMI</th>\n",
                            "      <th>DiabetesPedigreeFunction</th>\n",
                            "      <th>Age</th>\n",
                            "      <th>Outcome</th>\n",
                            "    </tr>\n",
                            "  </thead>\n",
                            "  <tbody>\n",
                            "    <tr>\n",
                            "      <th>0</th>\n",
                            "      <td>6</td>\n",
                            "      <td>148</td>\n",
                            "      <td>72</td>\n",
                            "      <td>35</td>\n",
                            "      <td>0</td>\n",
                            "      <td>33.6</td>\n",
                            "      <td>0.627</td>\n",
                            "      <td>50</td>\n",
                            "      <td>1</td>\n",
                            "    </tr>\n",
                            "    <tr>\n",
                            "      <th>1</th>\n",
                            "      <td>1</td>\n",
                            "      <td>85</td>\n",
                            "      <td>66</td>\n",
                            "      <td>29</td>\n",
                            "      <td>0</td>\n",
                            "      <td>26.6</td>\n",
                            "      <td>0.351</td>\n",
                            "      <td>31</td>\n",
                            "      <td>0</td>\n",
                            "    </tr>\n",
                            "    <tr>\n",
                            "      <th>2</th>\n",
                            "      <td>8</td>\n",
                            "      <td>183</td>\n",
                            "      <td>64</td>\n",
                            "      <td>0</td>\n",
                            "      <td>0</td>\n",
                            "      <td>23.3</td>\n",
                            "      <td>0.672</td>\n",
                            "      <td>32</td>\n",
                            "      <td>1</td>\n",
                            "    </tr>\n",
                            "    <tr>\n",
                            "      <th>3</th>\n",
                            "      <td>1</td>\n",
                            "      <td>89</td>\n",
                            "      <td>66</td>\n",
                            "      <td>23</td>\n",
                            "      <td>94</td>\n",
                            "      <td>28.1</td>\n",
                            "      <td>0.167</td>\n",
                            "      <td>21</td>\n",
                            "      <td>0</td>\n",
                            "    </tr>\n",
                            "    <tr>\n",
                            "      <th>4</th>\n",
                            "      <td>0</td>\n",
                            "      <td>137</td>\n",
                            "      <td>40</td>\n",
                            "      <td>35</td>\n",
                            "      <td>168</td>\n",
                            "      <td>43.1</td>\n",
                            "      <td>2.288</td>\n",
                            "      <td>33</td>\n",
                            "      <td>1</td>\n",
                            "    </tr>\n",
                            "  </tbody>\n",
                            "</table>\n",
                            "</div>"
                        ],
                        "text/plain": [
                            "   Pregnancies  Glucose  BloodPressure  SkinThickness  Insulin   BMI  \\\n",
                            "0            6      148             72             35        0  33.6   \n",
                            "1            1       85             66             29        0  26.6   \n",
                            "2            8      183             64              0        0  23.3   \n",
                            "3            1       89             66             23       94  28.1   \n",
                            "4            0      137             40             35      168  43.1   \n",
                            "\n",
                            "   DiabetesPedigreeFunction  Age  Outcome  \n",
                            "0                     0.627   50        1  \n",
                            "1                     0.351   31        0  \n",
                            "2                     0.672   32        1  \n",
                            "3                     0.167   21        0  \n",
                            "4                     2.288   33        1  "
                        ]
                    },
                    "execution_count": 2,
                    "metadata": {},
                    "output_type": "execute_result"
                }
            ],
            "source": [
                "import pandas as pd\n",
                "from sklearn.preprocessing import StandardScaler\n",
                "from sklearn.model_selection import train_test_split\n",
                "from sklearn.ensemble import RandomForestClassifier\n",
                "from sklearn.metrics import *\n",
                "from imblearn.metrics import specificity_score\n",
                "\n",
                "url = \"/workspaces/Random_Forest_PereHDZ/diabetes_data.csv\"\n",
                "\n",
                "df = pd.read_csv(url, sep=',')\n",
                "\n",
                "df.to_csv('diabetes-data.csv', index=False)\n",
                "\n",
                "df.head()"
            ]
        },
        {
            "cell_type": "code",
            "execution_count": 3,
            "metadata": {},
            "outputs": [
                {
                    "data": {
                        "text/html": [
                            "<div>\n",
                            "<style scoped>\n",
                            "    .dataframe tbody tr th:only-of-type {\n",
                            "        vertical-align: middle;\n",
                            "    }\n",
                            "\n",
                            "    .dataframe tbody tr th {\n",
                            "        vertical-align: top;\n",
                            "    }\n",
                            "\n",
                            "    .dataframe thead th {\n",
                            "        text-align: right;\n",
                            "    }\n",
                            "</style>\n",
                            "<table border=\"1\" class=\"dataframe\">\n",
                            "  <thead>\n",
                            "    <tr style=\"text-align: right;\">\n",
                            "      <th></th>\n",
                            "      <th>Pregnancies</th>\n",
                            "      <th>Glucose</th>\n",
                            "      <th>BloodPressure</th>\n",
                            "      <th>SkinThickness</th>\n",
                            "      <th>Insulin</th>\n",
                            "      <th>BMI</th>\n",
                            "      <th>DiabetesPedigreeFunction</th>\n",
                            "      <th>Age</th>\n",
                            "      <th>Outcome</th>\n",
                            "    </tr>\n",
                            "  </thead>\n",
                            "  <tbody>\n",
                            "    <tr>\n",
                            "      <th>0</th>\n",
                            "      <td>6</td>\n",
                            "      <td>148</td>\n",
                            "      <td>72</td>\n",
                            "      <td>35</td>\n",
                            "      <td>125</td>\n",
                            "      <td>33.6</td>\n",
                            "      <td>0.627</td>\n",
                            "      <td>50</td>\n",
                            "      <td>1</td>\n",
                            "    </tr>\n",
                            "    <tr>\n",
                            "      <th>1</th>\n",
                            "      <td>1</td>\n",
                            "      <td>85</td>\n",
                            "      <td>66</td>\n",
                            "      <td>29</td>\n",
                            "      <td>125</td>\n",
                            "      <td>26.6</td>\n",
                            "      <td>0.351</td>\n",
                            "      <td>31</td>\n",
                            "      <td>0</td>\n",
                            "    </tr>\n",
                            "    <tr>\n",
                            "      <th>2</th>\n",
                            "      <td>8</td>\n",
                            "      <td>183</td>\n",
                            "      <td>64</td>\n",
                            "      <td>29</td>\n",
                            "      <td>125</td>\n",
                            "      <td>23.3</td>\n",
                            "      <td>0.672</td>\n",
                            "      <td>32</td>\n",
                            "      <td>1</td>\n",
                            "    </tr>\n",
                            "    <tr>\n",
                            "      <th>3</th>\n",
                            "      <td>1</td>\n",
                            "      <td>89</td>\n",
                            "      <td>66</td>\n",
                            "      <td>23</td>\n",
                            "      <td>94</td>\n",
                            "      <td>28.1</td>\n",
                            "      <td>0.167</td>\n",
                            "      <td>21</td>\n",
                            "      <td>0</td>\n",
                            "    </tr>\n",
                            "    <tr>\n",
                            "      <th>4</th>\n",
                            "      <td>0</td>\n",
                            "      <td>137</td>\n",
                            "      <td>40</td>\n",
                            "      <td>35</td>\n",
                            "      <td>168</td>\n",
                            "      <td>43.1</td>\n",
                            "      <td>2.288</td>\n",
                            "      <td>33</td>\n",
                            "      <td>1</td>\n",
                            "    </tr>\n",
                            "  </tbody>\n",
                            "</table>\n",
                            "</div>"
                        ],
                        "text/plain": [
                            "   Pregnancies  Glucose  BloodPressure  SkinThickness  Insulin   BMI  \\\n",
                            "0            6      148             72             35      125  33.6   \n",
                            "1            1       85             66             29      125  26.6   \n",
                            "2            8      183             64             29      125  23.3   \n",
                            "3            1       89             66             23       94  28.1   \n",
                            "4            0      137             40             35      168  43.1   \n",
                            "\n",
                            "   DiabetesPedigreeFunction  Age  Outcome  \n",
                            "0                     0.627   50        1  \n",
                            "1                     0.351   31        0  \n",
                            "2                     0.672   32        1  \n",
                            "3                     0.167   21        0  \n",
                            "4                     2.288   33        1  "
                        ]
                    },
                    "execution_count": 3,
                    "metadata": {},
                    "output_type": "execute_result"
                }
            ],
            "source": [
                "'''Since this is the same dataset as the previous exercise, we won't perform an EDA. We could scale and split the data right away, however, \n",
                "as pointed out in the correction of said exercise, we should first tackle all the impossible 0 values in our dataset. We will replace them \n",
                "for the median of their column'''\n",
                "\n",
                "columns_with_impossible_0 = ['Glucose', 'BloodPressure', 'SkinThickness', 'Insulin', 'BMI']\n",
                "\n",
                "for col in columns_with_impossible_0:\n",
                "    median_value = df[col][df[col] != 0].median()\n",
                "    df[col] = df[col].replace(0, median_value)\n",
                "\n",
                "df.head()"
            ]
        },
        {
            "cell_type": "code",
            "execution_count": 4,
            "metadata": {},
            "outputs": [
                {
                    "name": "stderr",
                    "output_type": "stream",
                    "text": [
                        "/home/vscode/.local/lib/python3.10/site-packages/sklearn/utils/validation.py:2739: UserWarning: X does not have valid feature names, but RandomForestClassifier was fitted with feature names\n",
                        "  warnings.warn(\n",
                        "/home/vscode/.local/lib/python3.10/site-packages/sklearn/utils/validation.py:2739: UserWarning: X does not have valid feature names, but RandomForestClassifier was fitted with feature names\n",
                        "  warnings.warn(\n",
                        "/home/vscode/.local/lib/python3.10/site-packages/sklearn/utils/validation.py:2739: UserWarning: X does not have valid feature names, but RandomForestClassifier was fitted with feature names\n",
                        "  warnings.warn(\n",
                        "/home/vscode/.local/lib/python3.10/site-packages/sklearn/utils/validation.py:2739: UserWarning: X does not have valid feature names, but RandomForestClassifier was fitted with feature names\n",
                        "  warnings.warn(\n"
                    ]
                },
                {
                    "data": {
                        "text/html": [
                            "<div>\n",
                            "<style scoped>\n",
                            "    .dataframe tbody tr th:only-of-type {\n",
                            "        vertical-align: middle;\n",
                            "    }\n",
                            "\n",
                            "    .dataframe tbody tr th {\n",
                            "        vertical-align: top;\n",
                            "    }\n",
                            "\n",
                            "    .dataframe thead th {\n",
                            "        text-align: right;\n",
                            "    }\n",
                            "</style>\n",
                            "<table border=\"1\" class=\"dataframe\">\n",
                            "  <thead>\n",
                            "    <tr style=\"text-align: right;\">\n",
                            "      <th></th>\n",
                            "      <th>Accuracy</th>\n",
                            "      <th>F1</th>\n",
                            "      <th>AUC</th>\n",
                            "      <th>Precision</th>\n",
                            "      <th>Recall</th>\n",
                            "      <th>Specificity</th>\n",
                            "    </tr>\n",
                            "  </thead>\n",
                            "  <tbody>\n",
                            "    <tr>\n",
                            "      <th>Train</th>\n",
                            "      <td>0.780130</td>\n",
                            "      <td>0.617564</td>\n",
                            "      <td>0.717215</td>\n",
                            "      <td>0.778571</td>\n",
                            "      <td>0.511737</td>\n",
                            "      <td>0.922693</td>\n",
                            "    </tr>\n",
                            "    <tr>\n",
                            "      <th>Test</th>\n",
                            "      <td>0.785714</td>\n",
                            "      <td>0.659794</td>\n",
                            "      <td>0.740404</td>\n",
                            "      <td>0.761905</td>\n",
                            "      <td>0.581818</td>\n",
                            "      <td>0.898990</td>\n",
                            "    </tr>\n",
                            "    <tr>\n",
                            "      <th>Diferencia</th>\n",
                            "      <td>-0.005584</td>\n",
                            "      <td>-0.042230</td>\n",
                            "      <td>-0.023189</td>\n",
                            "      <td>0.016667</td>\n",
                            "      <td>-0.070081</td>\n",
                            "      <td>0.023703</td>\n",
                            "    </tr>\n",
                            "  </tbody>\n",
                            "</table>\n",
                            "</div>"
                        ],
                        "text/plain": [
                            "            Accuracy        F1       AUC  Precision    Recall  Specificity\n",
                            "Train       0.780130  0.617564  0.717215   0.778571  0.511737     0.922693\n",
                            "Test        0.785714  0.659794  0.740404   0.761905  0.581818     0.898990\n",
                            "Diferencia -0.005584 -0.042230 -0.023189   0.016667 -0.070081     0.023703"
                        ]
                    },
                    "execution_count": 4,
                    "metadata": {},
                    "output_type": "execute_result"
                }
            ],
            "source": [
                "#Now that the 0s are dealt with, we can proceed with the data split\n",
                "df_scaled = pd.DataFrame(data=StandardScaler().fit_transform(df.drop(['Outcome'], axis = 1)), columns=df.columns[: -1])\n",
                "df_scaled['Outcome'] = df.Outcome\n",
                "\n",
                "X = df_scaled.drop(['Outcome'], axis=1)\n",
                "y = df_scaled['Outcome']\n",
                "\n",
                "X_train, X_test, y_train, y_test = train_test_split(X, y, test_size=0.2, random_state=42)\n",
                "\n",
                "#And we will porceed to create two random forests\n",
                "rf_simple = RandomForestClassifier(n_estimators=5, random_state=42, max_depth=2, min_samples_leaf=20, max_features=X_train.shape[1]//2)\n",
                "rf_complex = RandomForestClassifier(n_estimators=100, random_state=42, max_depth=20, min_samples_leaf=1, max_features=int(X_train.shape[1]*0.8))\n",
                "\n",
                "rf_simple.fit(X_train, y_train)\n",
                "rf_complex.fit(X_train, y_train)\n",
                "\n",
                "#Evaluate simple model\n",
                "train_pred_simple = rf_simple.predict(X_train.values)\n",
                "test_pred_simple = rf_simple.predict(X_test.values)\n",
                "\n",
                "#Evaluate complex model\n",
                "train_pred_complex = rf_complex.predict(X_train.values)\n",
                "test_pred_complex = rf_complex.predict(X_test.values)\n",
                "\n",
                "#Create function to get the metrics\n",
                "def get_metrics(y_train, y_test, y_pred_train, y_pred_test):\n",
                "    # Calcular métricas para el conjunto de entrenamiento\n",
                "    train_accuracy = accuracy_score(y_train, y_pred_train)\n",
                "    train_f1 = f1_score(y_train, y_pred_train)\n",
                "    train_auc = roc_auc_score(y_train, y_pred_train)\n",
                "    train_precision = precision_score(y_train, y_pred_train)\n",
                "    train_recall = recall_score(y_train, y_pred_train)\n",
                "    train_specificity = specificity_score(y_train, y_pred_train)\n",
                "\n",
                "    # Calcular métricas para el conjunto de prueba\n",
                "    test_accuracy = accuracy_score(y_test, y_pred_test)\n",
                "    test_f1 = f1_score(y_test, y_pred_test)\n",
                "    test_auc = roc_auc_score(y_test, y_pred_test)\n",
                "    test_precision = precision_score(y_test, y_pred_test)\n",
                "    test_recall = recall_score(y_test, y_pred_test)\n",
                "    test_specificity = specificity_score(y_test, y_pred_test)\n",
                "\n",
                "    # Calcular la diferencia entre métricas de entrenamiento y prueba\n",
                "    diff_accuracy = train_accuracy - test_accuracy\n",
                "    diff_f1 = train_f1 - test_f1\n",
                "    diff_auc = train_auc - test_auc\n",
                "    diff_precision = train_precision - test_precision\n",
                "    diff_recall = train_recall - test_recall\n",
                "    diff_specificity = train_specificity - test_specificity\n",
                "\n",
                "    # Crear un DataFrame con los resultados\n",
                "    metrics_df = pd.DataFrame([[train_accuracy, train_f1, train_auc, train_precision, train_recall, train_specificity],[test_accuracy, test_f1, test_auc, test_precision, test_recall, test_specificity],[diff_accuracy, diff_f1, diff_auc, diff_precision, diff_recall, diff_specificity]],\n",
                "                              columns = ['Accuracy', 'F1', 'AUC', 'Precision', 'Recall', 'Specificity'],\n",
                "                              index = ['Train','Test', 'Diferencia'])\n",
                "\n",
                "    return metrics_df\n",
                "\n",
                "#Get metrics for simple random forest\n",
                "get_metrics(y_train, y_test, train_pred_simple, test_pred_simple)"
            ]
        },
        {
            "cell_type": "code",
            "execution_count": 5,
            "metadata": {},
            "outputs": [
                {
                    "data": {
                        "text/html": [
                            "<div>\n",
                            "<style scoped>\n",
                            "    .dataframe tbody tr th:only-of-type {\n",
                            "        vertical-align: middle;\n",
                            "    }\n",
                            "\n",
                            "    .dataframe tbody tr th {\n",
                            "        vertical-align: top;\n",
                            "    }\n",
                            "\n",
                            "    .dataframe thead th {\n",
                            "        text-align: right;\n",
                            "    }\n",
                            "</style>\n",
                            "<table border=\"1\" class=\"dataframe\">\n",
                            "  <thead>\n",
                            "    <tr style=\"text-align: right;\">\n",
                            "      <th></th>\n",
                            "      <th>Accuracy</th>\n",
                            "      <th>F1</th>\n",
                            "      <th>AUC</th>\n",
                            "      <th>Precision</th>\n",
                            "      <th>Recall</th>\n",
                            "      <th>Specificity</th>\n",
                            "    </tr>\n",
                            "  </thead>\n",
                            "  <tbody>\n",
                            "    <tr>\n",
                            "      <th>Train</th>\n",
                            "      <td>1.000000</td>\n",
                            "      <td>1.000000</td>\n",
                            "      <td>1.000000</td>\n",
                            "      <td>1.000000</td>\n",
                            "      <td>1.000000</td>\n",
                            "      <td>1.000000</td>\n",
                            "    </tr>\n",
                            "    <tr>\n",
                            "      <th>Test</th>\n",
                            "      <td>0.766234</td>\n",
                            "      <td>0.689655</td>\n",
                            "      <td>0.757576</td>\n",
                            "      <td>0.655738</td>\n",
                            "      <td>0.727273</td>\n",
                            "      <td>0.787879</td>\n",
                            "    </tr>\n",
                            "    <tr>\n",
                            "      <th>Diferencia</th>\n",
                            "      <td>0.233766</td>\n",
                            "      <td>0.310345</td>\n",
                            "      <td>0.242424</td>\n",
                            "      <td>0.344262</td>\n",
                            "      <td>0.272727</td>\n",
                            "      <td>0.212121</td>\n",
                            "    </tr>\n",
                            "  </tbody>\n",
                            "</table>\n",
                            "</div>"
                        ],
                        "text/plain": [
                            "            Accuracy        F1       AUC  Precision    Recall  Specificity\n",
                            "Train       1.000000  1.000000  1.000000   1.000000  1.000000     1.000000\n",
                            "Test        0.766234  0.689655  0.757576   0.655738  0.727273     0.787879\n",
                            "Diferencia  0.233766  0.310345  0.242424   0.344262  0.272727     0.212121"
                        ]
                    },
                    "execution_count": 5,
                    "metadata": {},
                    "output_type": "execute_result"
                }
            ],
            "source": [
                "#Get metrics for complex random forest\n",
                "get_metrics(y_train, y_test, train_pred_complex, test_pred_complex)"
            ]
        },
        {
            "cell_type": "code",
            "execution_count": 6,
            "metadata": {},
            "outputs": [
                {
                    "data": {
                        "text/plain": [
                            "<sklearn.metrics._plot.confusion_matrix.ConfusionMatrixDisplay at 0x753c13af3f70>"
                        ]
                    },
                    "execution_count": 6,
                    "metadata": {},
                    "output_type": "execute_result"
                },
                {
                    "data": {
                        "image/png": "[encoded data removed]",
                        "text/plain": [
                            "<Figure size 640x480 with 2 Axes>"
                        ]
                    },
                    "metadata": {},
                    "output_type": "display_data"
                }
            ],
            "source": [
                "#Plot confusion matrix\n",
                "cm = confusion_matrix(y_test, test_pred_simple)\n",
                "disp = ConfusionMatrixDisplay(confusion_matrix=cm, display_labels=['Healthy', 'Diabetic'])\n",
                "disp.plot()"
            ]
        },
        {
            "cell_type": "code",
            "execution_count": 7,
            "metadata": {},
            "outputs": [
                {
                    "data": {
                        "text/plain": [
                            "<sklearn.metrics._plot.confusion_matrix.ConfusionMatrixDisplay at 0x753c11867100>"
                        ]
                    },
                    "execution_count": 7,
                    "metadata": {},
                    "output_type": "execute_result"
                },
                {
                    "data": {
                        "image/png": "[encoded data removed]",
                        "text/plain": [
                            "<Figure size 640x480 with 2 Axes>"
                        ]
                    },
                    "metadata": {},
                    "output_type": "display_data"
                }
            ],
            "source": [
                "cm = confusion_matrix(y_test, test_pred_complex)\n",
                "disp = ConfusionMatrixDisplay(confusion_matrix=cm, display_labels=['Healthy', 'Diabetic'])\n",
                "disp.plot()"
            ]
        },
        {
            "cell_type": "code",
            "execution_count": 8,
            "metadata": {},
            "outputs": [
                {
                    "data": {
                        "text/plain": [
                            "Outcome\n",
                            "0    500\n",
                            "1    268\n",
                            "Name: count, dtype: int64"
                        ]
                    },
                    "execution_count": 8,
                    "metadata": {},
                    "output_type": "execute_result"
                }
            ],
            "source": [
                "df['Outcome'].value_counts()"
            ]
        },
        {
            "cell_type": "markdown",
            "metadata": {},
            "source": [
                "After printing the metrics and plotting the confusion matrix, I would argue that neither model is accurate enough to be used in a medical and they have the following issues:"
            ]
        },
        {
            "cell_type": "markdown",
            "metadata": {},
            "source": [
                "The complex tree model has a perfect score in every single metric for the training data. As counterintuitive as it may be, this actually shows that our model is too specific and makes its analisys patient per patient instead of grouping them by charachteristics and making a general diagnosis for all of them. This is very costly and doesn't allow much generalization. "
            ]
        },
        {
            "cell_type": "markdown",
            "metadata": {},
            "source": [
                "Though, at a first glance, we might conclude that the simple model is better because it has a higher precission, this would be a wrong assumption. The reason why the the simple model has higher precission is because our dataset has more healthy people than diabetic (500 to 298), and the simple model tends to predict healthy. This is why it has an arguably high specificity (89.8990%) but a very low recall (58.1818%). The better model in this case is the complex one, since, despite having a lower precission (65.5738% vs 76.1905%), its specificity and recall values are more simillar (78.7879% and 72.7273% respectively), and thus shows a lower tendency towards healthy."
            ]
        },
        {
            "cell_type": "markdown",
            "metadata": {},
            "source": [
                "Nonetheless, no model reaches even a 90% in any metric for the test sample. Considering how this is a medical setting, its predicatbility is too low to be used. A way to improve it might be with having a bigger sample size."
            ]
        }
    ],
    "metadata": {
        "kernelspec": {
            "display_name": "Python 3",
            "language": "python",
            "name": "python3"
        },
        "language_info": {
            "codemirror_mode": {
                "name": "ipython",
                "version": 3
            },
            "file_extension": ".py",
            "mimetype": "text/x-python",
            "name": "python",
            "nbconvert_exporter": "python",
            "pygments_lexer": "ipython3",
            "version": "3.10.12"
        },
        "orig_nbformat": 4
    },
    "nbformat": 4,
    "nbformat_minor": 2
}
